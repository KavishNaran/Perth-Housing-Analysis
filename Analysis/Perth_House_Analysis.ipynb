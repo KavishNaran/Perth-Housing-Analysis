{
 "cells": [
  {
   "cell_type": "markdown",
   "metadata": {
    "tags": []
   },
   "source": [
    "# Perth Housing Analysis"
   ]
  },
  {
   "cell_type": "code",
   "execution_count": 1,
   "metadata": {
    "tags": []
   },
   "outputs": [],
   "source": [
    "# Import dependencies \n",
    "\n",
    "import pandas as pd\n",
    "import matplotlib.pyplot as plt\n",
    "import scipy.stats as st\n",
    "import numpy as np\n",
    "import matplotlib.ticker as mticker\n",
    "\n"
   ]
  },
  {
   "cell_type": "code",
   "execution_count": 2,
   "metadata": {
    "tags": []
   },
   "outputs": [
    {
     "data": {
      "text/html": [
       "<div>\n",
       "<style scoped>\n",
       "    .dataframe tbody tr th:only-of-type {\n",
       "        vertical-align: middle;\n",
       "    }\n",
       "\n",
       "    .dataframe tbody tr th {\n",
       "        vertical-align: top;\n",
       "    }\n",
       "\n",
       "    .dataframe thead th {\n",
       "        text-align: right;\n",
       "    }\n",
       "</style>\n",
       "<table border=\"1\" class=\"dataframe\">\n",
       "  <thead>\n",
       "    <tr style=\"text-align: right;\">\n",
       "      <th></th>\n",
       "      <th>ADDRESS</th>\n",
       "      <th>SUBURB</th>\n",
       "      <th>PRICE</th>\n",
       "      <th>BEDROOMS</th>\n",
       "      <th>BATHROOMS</th>\n",
       "      <th>GARAGE</th>\n",
       "      <th>LAND_AREA</th>\n",
       "      <th>FLOOR_AREA</th>\n",
       "      <th>BUILD_YEAR</th>\n",
       "      <th>CBD_DIST</th>\n",
       "      <th>NEAREST_STN</th>\n",
       "      <th>NEAREST_STN_DIST</th>\n",
       "      <th>DATE_SOLD</th>\n",
       "      <th>POSTCODE</th>\n",
       "      <th>LATITUDE</th>\n",
       "      <th>LONGITUDE</th>\n",
       "      <th>NEAREST_SCH</th>\n",
       "      <th>NEAREST_SCH_DIST</th>\n",
       "      <th>NEAREST_SCH_RANK</th>\n",
       "    </tr>\n",
       "  </thead>\n",
       "  <tbody>\n",
       "    <tr>\n",
       "      <th>0</th>\n",
       "      <td>1 Acorn Place</td>\n",
       "      <td>South Lake</td>\n",
       "      <td>565000</td>\n",
       "      <td>4</td>\n",
       "      <td>2</td>\n",
       "      <td>2.0</td>\n",
       "      <td>600</td>\n",
       "      <td>160</td>\n",
       "      <td>2003.0</td>\n",
       "      <td>18300</td>\n",
       "      <td>Cockburn Central Station</td>\n",
       "      <td>1800</td>\n",
       "      <td>09-2018\\r</td>\n",
       "      <td>6164</td>\n",
       "      <td>-32.115900</td>\n",
       "      <td>115.842450</td>\n",
       "      <td>LAKELAND SENIOR HIGH SCHOOL</td>\n",
       "      <td>0.828339</td>\n",
       "      <td>NaN</td>\n",
       "    </tr>\n",
       "    <tr>\n",
       "      <th>1</th>\n",
       "      <td>1 Addis Way</td>\n",
       "      <td>Wandi</td>\n",
       "      <td>365000</td>\n",
       "      <td>3</td>\n",
       "      <td>2</td>\n",
       "      <td>2.0</td>\n",
       "      <td>351</td>\n",
       "      <td>139</td>\n",
       "      <td>2013.0</td>\n",
       "      <td>26900</td>\n",
       "      <td>Kwinana Station</td>\n",
       "      <td>4900</td>\n",
       "      <td>02-2019\\r</td>\n",
       "      <td>6167</td>\n",
       "      <td>-32.193470</td>\n",
       "      <td>115.859554</td>\n",
       "      <td>ATWELL COLLEGE</td>\n",
       "      <td>5.524324</td>\n",
       "      <td>129.0</td>\n",
       "    </tr>\n",
       "    <tr>\n",
       "      <th>2</th>\n",
       "      <td>1 Ainsley Court</td>\n",
       "      <td>Camillo</td>\n",
       "      <td>287000</td>\n",
       "      <td>3</td>\n",
       "      <td>1</td>\n",
       "      <td>1.0</td>\n",
       "      <td>719</td>\n",
       "      <td>86</td>\n",
       "      <td>1979.0</td>\n",
       "      <td>22600</td>\n",
       "      <td>Challis Station</td>\n",
       "      <td>1900</td>\n",
       "      <td>06-2015\\r</td>\n",
       "      <td>6111</td>\n",
       "      <td>-32.120578</td>\n",
       "      <td>115.993579</td>\n",
       "      <td>KELMSCOTT SENIOR HIGH SCHOOL</td>\n",
       "      <td>1.649178</td>\n",
       "      <td>113.0</td>\n",
       "    </tr>\n",
       "    <tr>\n",
       "      <th>3</th>\n",
       "      <td>1 Albert Street</td>\n",
       "      <td>Bellevue</td>\n",
       "      <td>255000</td>\n",
       "      <td>2</td>\n",
       "      <td>1</td>\n",
       "      <td>2.0</td>\n",
       "      <td>651</td>\n",
       "      <td>59</td>\n",
       "      <td>1953.0</td>\n",
       "      <td>17900</td>\n",
       "      <td>Midland Station</td>\n",
       "      <td>3600</td>\n",
       "      <td>07-2018\\r</td>\n",
       "      <td>6056</td>\n",
       "      <td>-31.900547</td>\n",
       "      <td>116.038009</td>\n",
       "      <td>SWAN VIEW SENIOR HIGH SCHOOL</td>\n",
       "      <td>1.571401</td>\n",
       "      <td>NaN</td>\n",
       "    </tr>\n",
       "    <tr>\n",
       "      <th>4</th>\n",
       "      <td>1 Aman Place</td>\n",
       "      <td>Lockridge</td>\n",
       "      <td>325000</td>\n",
       "      <td>4</td>\n",
       "      <td>1</td>\n",
       "      <td>2.0</td>\n",
       "      <td>466</td>\n",
       "      <td>131</td>\n",
       "      <td>1998.0</td>\n",
       "      <td>11200</td>\n",
       "      <td>Bassendean Station</td>\n",
       "      <td>2000</td>\n",
       "      <td>11-2016\\r</td>\n",
       "      <td>6054</td>\n",
       "      <td>-31.885790</td>\n",
       "      <td>115.947780</td>\n",
       "      <td>KIARA COLLEGE</td>\n",
       "      <td>1.514922</td>\n",
       "      <td>NaN</td>\n",
       "    </tr>\n",
       "  </tbody>\n",
       "</table>\n",
       "</div>"
      ],
      "text/plain": [
       "           ADDRESS      SUBURB   PRICE  BEDROOMS  BATHROOMS  GARAGE  \\\n",
       "0    1 Acorn Place  South Lake  565000         4          2     2.0   \n",
       "1      1 Addis Way       Wandi  365000         3          2     2.0   \n",
       "2  1 Ainsley Court     Camillo  287000         3          1     1.0   \n",
       "3  1 Albert Street    Bellevue  255000         2          1     2.0   \n",
       "4     1 Aman Place   Lockridge  325000         4          1     2.0   \n",
       "\n",
       "   LAND_AREA  FLOOR_AREA  BUILD_YEAR  CBD_DIST               NEAREST_STN  \\\n",
       "0        600         160      2003.0     18300  Cockburn Central Station   \n",
       "1        351         139      2013.0     26900           Kwinana Station   \n",
       "2        719          86      1979.0     22600           Challis Station   \n",
       "3        651          59      1953.0     17900           Midland Station   \n",
       "4        466         131      1998.0     11200        Bassendean Station   \n",
       "\n",
       "   NEAREST_STN_DIST  DATE_SOLD  POSTCODE   LATITUDE   LONGITUDE  \\\n",
       "0              1800  09-2018\\r      6164 -32.115900  115.842450   \n",
       "1              4900  02-2019\\r      6167 -32.193470  115.859554   \n",
       "2              1900  06-2015\\r      6111 -32.120578  115.993579   \n",
       "3              3600  07-2018\\r      6056 -31.900547  116.038009   \n",
       "4              2000  11-2016\\r      6054 -31.885790  115.947780   \n",
       "\n",
       "                    NEAREST_SCH  NEAREST_SCH_DIST  NEAREST_SCH_RANK  \n",
       "0   LAKELAND SENIOR HIGH SCHOOL          0.828339               NaN  \n",
       "1                ATWELL COLLEGE          5.524324             129.0  \n",
       "2  KELMSCOTT SENIOR HIGH SCHOOL          1.649178             113.0  \n",
       "3  SWAN VIEW SENIOR HIGH SCHOOL          1.571401               NaN  \n",
       "4                 KIARA COLLEGE          1.514922               NaN  "
      ]
     },
     "execution_count": 2,
     "metadata": {},
     "output_type": "execute_result"
    }
   ],
   "source": [
    "# Import CSV \n",
    "perth_housing = pd.read_csv('Perth_housing_data.csv')\n",
    "perth_housing.head()"
   ]
  },
  {
   "cell_type": "markdown",
   "metadata": {
    "tags": []
   },
   "source": [
    "## Clean the data ## \n"
   ]
  },
  {
   "cell_type": "code",
   "execution_count": 3,
   "metadata": {
    "tags": []
   },
   "outputs": [],
   "source": [
    "# Delete irrelevant columsn = garage, address, floor area.\n",
    "new_perth_housing = perth_housing.drop(['ADDRESS', 'GARAGE', 'FLOOR_AREA', 'NEAREST_SCH_RANK'] , axis =1)\n",
    "\n",
    "# Remove all null values including\n",
    "new_perth_housing.dropna(how ='any', inplace = True)\n",
    "\n",
    "# Convert School distance to meters and convert to integer\n",
    "new_perth_housing['NEAREST_SCH_DIST'] = (new_perth_housing[['NEAREST_SCH_DIST']] * 1000).astype(int)\n",
    "\n",
    "#Convert Build Year to Integer \n",
    "new_perth_housing['BUILD_YEAR'] = new_perth_housing['BUILD_YEAR'].astype(int)\n",
    "\n",
    "# Remove post codes which are out of Perth\n",
    "new_perth_housing = new_perth_housing[new_perth_housing['POSTCODE'] < 6200]"
   ]
  },
  {
   "cell_type": "code",
   "execution_count": 4,
   "metadata": {
    "tags": []
   },
   "outputs": [
    {
     "data": {
      "text/plain": [
       "(30378, 15)"
      ]
     },
     "execution_count": 4,
     "metadata": {},
     "output_type": "execute_result"
    }
   ],
   "source": [
    "#Check the properties of the dataframe. \n",
    "new_perth_housing.shape"
   ]
  },
  {
   "cell_type": "code",
   "execution_count": 5,
   "metadata": {
    "tags": []
   },
   "outputs": [
    {
     "name": "stderr",
     "output_type": "stream",
     "text": [
      "/var/folders/yh/d9vyd51x27137p_k6yk1h2300000gn/T/ipykernel_5868/868040009.py:6: UserWarning: Could not infer format, so each element will be parsed individually, falling back to `dateutil`. To ensure parsing is consistent and as-expected, please specify a format.\n",
      "  new_perth_housing['DATE_SOLD'] = pd.to_datetime(new_perth_housing['DATE_SOLD'])\n"
     ]
    }
   ],
   "source": [
    "# Change datatype of DATE SOLD column to string to remove '/r' \n",
    "new_perth_housing[['DATE_SOLD']] = new_perth_housing[['DATE_SOLD']].astype('string')\n",
    "new_perth_housing['DATE_SOLD'] = new_perth_housing['DATE_SOLD'].str[:7]\n",
    "\n",
    "#Split Month and Year \n",
    "new_perth_housing['DATE_SOLD'] = pd.to_datetime(new_perth_housing['DATE_SOLD'])\n",
    "\n",
    "# Add clean data to new frame\n",
    "clean_perth_housing = new_perth_housing"
   ]
  },
  {
   "cell_type": "code",
   "execution_count": 6,
   "metadata": {
    "tags": []
   },
   "outputs": [
    {
     "data": {
      "text/html": [
       "<div>\n",
       "<style scoped>\n",
       "    .dataframe tbody tr th:only-of-type {\n",
       "        vertical-align: middle;\n",
       "    }\n",
       "\n",
       "    .dataframe tbody tr th {\n",
       "        vertical-align: top;\n",
       "    }\n",
       "\n",
       "    .dataframe thead th {\n",
       "        text-align: right;\n",
       "    }\n",
       "</style>\n",
       "<table border=\"1\" class=\"dataframe\">\n",
       "  <thead>\n",
       "    <tr style=\"text-align: right;\">\n",
       "      <th></th>\n",
       "      <th>SUBURB</th>\n",
       "      <th>PRICE</th>\n",
       "      <th>BEDROOMS</th>\n",
       "      <th>BATHROOMS</th>\n",
       "      <th>LAND_AREA</th>\n",
       "      <th>BUILD_YEAR</th>\n",
       "      <th>CBD_DIST</th>\n",
       "      <th>NEAREST_STN</th>\n",
       "      <th>NEAREST_STN_DIST</th>\n",
       "      <th>DATE_SOLD</th>\n",
       "      <th>POSTCODE</th>\n",
       "      <th>LATITUDE</th>\n",
       "      <th>LONGITUDE</th>\n",
       "      <th>NEAREST_SCH</th>\n",
       "      <th>NEAREST_SCH_DIST</th>\n",
       "    </tr>\n",
       "  </thead>\n",
       "  <tbody>\n",
       "    <tr>\n",
       "      <th>0</th>\n",
       "      <td>South Lake</td>\n",
       "      <td>565000</td>\n",
       "      <td>4</td>\n",
       "      <td>2</td>\n",
       "      <td>600</td>\n",
       "      <td>2003</td>\n",
       "      <td>18300</td>\n",
       "      <td>Cockburn Central Station</td>\n",
       "      <td>1800</td>\n",
       "      <td>2018-09-01</td>\n",
       "      <td>6164</td>\n",
       "      <td>-32.115900</td>\n",
       "      <td>115.842450</td>\n",
       "      <td>LAKELAND SENIOR HIGH SCHOOL</td>\n",
       "      <td>828</td>\n",
       "    </tr>\n",
       "    <tr>\n",
       "      <th>1</th>\n",
       "      <td>Wandi</td>\n",
       "      <td>365000</td>\n",
       "      <td>3</td>\n",
       "      <td>2</td>\n",
       "      <td>351</td>\n",
       "      <td>2013</td>\n",
       "      <td>26900</td>\n",
       "      <td>Kwinana Station</td>\n",
       "      <td>4900</td>\n",
       "      <td>2019-02-01</td>\n",
       "      <td>6167</td>\n",
       "      <td>-32.193470</td>\n",
       "      <td>115.859554</td>\n",
       "      <td>ATWELL COLLEGE</td>\n",
       "      <td>5524</td>\n",
       "    </tr>\n",
       "    <tr>\n",
       "      <th>2</th>\n",
       "      <td>Camillo</td>\n",
       "      <td>287000</td>\n",
       "      <td>3</td>\n",
       "      <td>1</td>\n",
       "      <td>719</td>\n",
       "      <td>1979</td>\n",
       "      <td>22600</td>\n",
       "      <td>Challis Station</td>\n",
       "      <td>1900</td>\n",
       "      <td>2015-06-01</td>\n",
       "      <td>6111</td>\n",
       "      <td>-32.120578</td>\n",
       "      <td>115.993579</td>\n",
       "      <td>KELMSCOTT SENIOR HIGH SCHOOL</td>\n",
       "      <td>1649</td>\n",
       "    </tr>\n",
       "    <tr>\n",
       "      <th>3</th>\n",
       "      <td>Bellevue</td>\n",
       "      <td>255000</td>\n",
       "      <td>2</td>\n",
       "      <td>1</td>\n",
       "      <td>651</td>\n",
       "      <td>1953</td>\n",
       "      <td>17900</td>\n",
       "      <td>Midland Station</td>\n",
       "      <td>3600</td>\n",
       "      <td>2018-07-01</td>\n",
       "      <td>6056</td>\n",
       "      <td>-31.900547</td>\n",
       "      <td>116.038009</td>\n",
       "      <td>SWAN VIEW SENIOR HIGH SCHOOL</td>\n",
       "      <td>1571</td>\n",
       "    </tr>\n",
       "    <tr>\n",
       "      <th>4</th>\n",
       "      <td>Lockridge</td>\n",
       "      <td>325000</td>\n",
       "      <td>4</td>\n",
       "      <td>1</td>\n",
       "      <td>466</td>\n",
       "      <td>1998</td>\n",
       "      <td>11200</td>\n",
       "      <td>Bassendean Station</td>\n",
       "      <td>2000</td>\n",
       "      <td>2016-11-01</td>\n",
       "      <td>6054</td>\n",
       "      <td>-31.885790</td>\n",
       "      <td>115.947780</td>\n",
       "      <td>KIARA COLLEGE</td>\n",
       "      <td>1514</td>\n",
       "    </tr>\n",
       "    <tr>\n",
       "      <th>5</th>\n",
       "      <td>Mount Richon</td>\n",
       "      <td>409000</td>\n",
       "      <td>4</td>\n",
       "      <td>2</td>\n",
       "      <td>759</td>\n",
       "      <td>1991</td>\n",
       "      <td>27300</td>\n",
       "      <td>Armadale Station</td>\n",
       "      <td>1000</td>\n",
       "      <td>2013-03-01</td>\n",
       "      <td>6112</td>\n",
       "      <td>-32.153801</td>\n",
       "      <td>116.023658</td>\n",
       "      <td>ARMADALE SENIOR HIGH SCHOOL</td>\n",
       "      <td>1227</td>\n",
       "    </tr>\n",
       "    <tr>\n",
       "      <th>6</th>\n",
       "      <td>Hilbert</td>\n",
       "      <td>400000</td>\n",
       "      <td>3</td>\n",
       "      <td>2</td>\n",
       "      <td>386</td>\n",
       "      <td>2014</td>\n",
       "      <td>28200</td>\n",
       "      <td>Armadale Station</td>\n",
       "      <td>3700</td>\n",
       "      <td>2016-05-01</td>\n",
       "      <td>6112</td>\n",
       "      <td>-32.179978</td>\n",
       "      <td>115.988647</td>\n",
       "      <td>DALE CHRISTIAN SCHOOL</td>\n",
       "      <td>2485</td>\n",
       "    </tr>\n",
       "    <tr>\n",
       "      <th>7</th>\n",
       "      <td>Waikiki</td>\n",
       "      <td>370000</td>\n",
       "      <td>4</td>\n",
       "      <td>2</td>\n",
       "      <td>468</td>\n",
       "      <td>2013</td>\n",
       "      <td>41700</td>\n",
       "      <td>Warnbro Station</td>\n",
       "      <td>1100</td>\n",
       "      <td>2019-03-01</td>\n",
       "      <td>6169</td>\n",
       "      <td>-32.317662</td>\n",
       "      <td>115.761968</td>\n",
       "      <td>SOUTH COAST BAPTIST COLLEGE</td>\n",
       "      <td>491</td>\n",
       "    </tr>\n",
       "    <tr>\n",
       "      <th>8</th>\n",
       "      <td>Hamersley</td>\n",
       "      <td>565000</td>\n",
       "      <td>4</td>\n",
       "      <td>2</td>\n",
       "      <td>875</td>\n",
       "      <td>1983</td>\n",
       "      <td>12100</td>\n",
       "      <td>Warwick Station</td>\n",
       "      <td>2500</td>\n",
       "      <td>2020-06-01</td>\n",
       "      <td>6022</td>\n",
       "      <td>-31.847760</td>\n",
       "      <td>115.822700</td>\n",
       "      <td>WARWICK SENIOR HIGH SCHOOL</td>\n",
       "      <td>1221</td>\n",
       "    </tr>\n",
       "    <tr>\n",
       "      <th>9</th>\n",
       "      <td>Bayswater</td>\n",
       "      <td>685000</td>\n",
       "      <td>3</td>\n",
       "      <td>2</td>\n",
       "      <td>552</td>\n",
       "      <td>1999</td>\n",
       "      <td>5900</td>\n",
       "      <td>Bayswater Station</td>\n",
       "      <td>508</td>\n",
       "      <td>2019-10-01</td>\n",
       "      <td>6053</td>\n",
       "      <td>-31.917880</td>\n",
       "      <td>115.907050</td>\n",
       "      <td>CHISHOLM CATHOLIC COLLEGE</td>\n",
       "      <td>936</td>\n",
       "    </tr>\n",
       "  </tbody>\n",
       "</table>\n",
       "</div>"
      ],
      "text/plain": [
       "         SUBURB   PRICE  BEDROOMS  BATHROOMS  LAND_AREA  BUILD_YEAR  CBD_DIST  \\\n",
       "0    South Lake  565000         4          2        600        2003     18300   \n",
       "1         Wandi  365000         3          2        351        2013     26900   \n",
       "2       Camillo  287000         3          1        719        1979     22600   \n",
       "3      Bellevue  255000         2          1        651        1953     17900   \n",
       "4     Lockridge  325000         4          1        466        1998     11200   \n",
       "5  Mount Richon  409000         4          2        759        1991     27300   \n",
       "6       Hilbert  400000         3          2        386        2014     28200   \n",
       "7       Waikiki  370000         4          2        468        2013     41700   \n",
       "8     Hamersley  565000         4          2        875        1983     12100   \n",
       "9     Bayswater  685000         3          2        552        1999      5900   \n",
       "\n",
       "                NEAREST_STN  NEAREST_STN_DIST  DATE_SOLD  POSTCODE   LATITUDE  \\\n",
       "0  Cockburn Central Station              1800 2018-09-01      6164 -32.115900   \n",
       "1           Kwinana Station              4900 2019-02-01      6167 -32.193470   \n",
       "2           Challis Station              1900 2015-06-01      6111 -32.120578   \n",
       "3           Midland Station              3600 2018-07-01      6056 -31.900547   \n",
       "4        Bassendean Station              2000 2016-11-01      6054 -31.885790   \n",
       "5          Armadale Station              1000 2013-03-01      6112 -32.153801   \n",
       "6          Armadale Station              3700 2016-05-01      6112 -32.179978   \n",
       "7           Warnbro Station              1100 2019-03-01      6169 -32.317662   \n",
       "8           Warwick Station              2500 2020-06-01      6022 -31.847760   \n",
       "9         Bayswater Station               508 2019-10-01      6053 -31.917880   \n",
       "\n",
       "    LONGITUDE                   NEAREST_SCH  NEAREST_SCH_DIST  \n",
       "0  115.842450   LAKELAND SENIOR HIGH SCHOOL               828  \n",
       "1  115.859554                ATWELL COLLEGE              5524  \n",
       "2  115.993579  KELMSCOTT SENIOR HIGH SCHOOL              1649  \n",
       "3  116.038009  SWAN VIEW SENIOR HIGH SCHOOL              1571  \n",
       "4  115.947780                 KIARA COLLEGE              1514  \n",
       "5  116.023658   ARMADALE SENIOR HIGH SCHOOL              1227  \n",
       "6  115.988647         DALE CHRISTIAN SCHOOL              2485  \n",
       "7  115.761968   SOUTH COAST BAPTIST COLLEGE               491  \n",
       "8  115.822700    WARWICK SENIOR HIGH SCHOOL              1221  \n",
       "9  115.907050     CHISHOLM CATHOLIC COLLEGE               936  "
      ]
     },
     "execution_count": 6,
     "metadata": {},
     "output_type": "execute_result"
    }
   ],
   "source": [
    "clean_perth_housing.head(10)"
   ]
  },
  {
   "cell_type": "code",
   "execution_count": 7,
   "metadata": {
    "tags": []
   },
   "outputs": [],
   "source": [
    "# Count the number of house sales in a particular year. Results in descending order.\n",
    "\n",
    "clean_perth_housing['Sale_Year'] = pd.to_datetime(clean_perth_housing['DATE_SOLD']).dt.year\n",
    "yearly_sales = clean_perth_housing['Sale_Year'].value_counts()"
   ]
  },
  {
   "cell_type": "code",
   "execution_count": 8,
   "metadata": {
    "tags": []
   },
   "outputs": [
    {
     "name": "stdout",
     "output_type": "stream",
     "text": [
      "Sale_Year\n",
      "2018    5101\n",
      "2020    4799\n",
      "2019    4761\n",
      "2017    4460\n",
      "2016    3584\n",
      "2015    2804\n",
      "2014    1661\n",
      "2013     996\n",
      "2012     469\n",
      "2011     300\n",
      "2010     231\n",
      "2009     223\n",
      "2007     136\n",
      "2008     132\n",
      "2006     124\n",
      "2005     106\n",
      "2003      77\n",
      "2002      69\n",
      "2004      67\n",
      "2001      47\n",
      "1998      40\n",
      "2000      35\n",
      "1999      29\n",
      "1997      22\n",
      "1995      19\n",
      "1994      18\n",
      "1996      16\n",
      "1992      11\n",
      "1991      11\n",
      "1993      10\n",
      "1989       8\n",
      "1988       8\n",
      "1990       4\n",
      "Name: count, dtype: int64\n"
     ]
    }
   ],
   "source": [
    "print(yearly_sales)"
   ]
  },
  {
   "cell_type": "code",
   "execution_count": 9,
   "metadata": {
    "tags": []
   },
   "outputs": [
    {
     "data": {
      "image/png": "[encoded data removed]",
      "text/plain": [
       "<Figure size 640x480 with 1 Axes>"
      ]
     },
     "metadata": {},
     "output_type": "display_data"
    }
   ],
   "source": [
    "# Create a bar graph\n",
    "plt.bar(yearly_sales.index, yearly_sales.values)\n",
    "\n",
    "# Add labels and title\n",
    "plt.xlabel('Year')\n",
    "plt.ylabel('House Sales')\n",
    "plt.title('Number of Houses Sold per Year')\n",
    "\n",
    "# Show the graph\n",
    "plt.savefig('plot1.png')\n",
    "\n",
    "plt.show()\n",
    "\n"
   ]
  },
  {
   "cell_type": "code",
   "execution_count": 10,
   "metadata": {},
   "outputs": [
    {
     "name": "stdout",
     "output_type": "stream",
     "text": [
      "Sales_By_Month\n",
      "10    2934\n",
      "11    2889\n",
      "8     2679\n",
      "7     2623\n",
      "9     2595\n",
      "3     2565\n",
      "5     2541\n",
      "6     2501\n",
      "12    2477\n",
      "4     2330\n",
      "2     2202\n",
      "1     2042\n",
      "Name: count, dtype: int64\n"
     ]
    },
    {
     "data": {
      "image/png": "[encoded data removed]",
      "text/plain": [
       "<Figure size 640x480 with 1 Axes>"
      ]
     },
     "metadata": {},
     "output_type": "display_data"
    }
   ],
   "source": [
    "# Which month and has the best sales?\n",
    "\n",
    "clean_perth_housing['Sales_By_Month'] = pd.to_datetime(clean_perth_housing['DATE_SOLD']).dt.month\n",
    "monthly_sales = clean_perth_housing['Sales_By_Month'].value_counts()\n",
    "\n",
    "print(monthly_sales)\n",
    "\n",
    "plt.bar(monthly_sales.index, monthly_sales.values)\n",
    "\n",
    "plt.xlabel('Month')\n",
    "plt.ylabel('House Sales')\n",
    "plt.title('Number of Houses Sold in Perth per Month between 1990 - 2020')\n",
    "\n",
    "plt.savefig('plot2.png')\n",
    "\n",
    "plt.show()"
   ]
  },
  {
   "cell_type": "code",
   "execution_count": 11,
   "metadata": {
    "tags": []
   },
   "outputs": [
    {
     "name": "stdout",
     "output_type": "stream",
     "text": [
      "CBD_DIST\n",
      "12600    168\n",
      "12500    164\n",
      "14900    160\n",
      "12700    151\n",
      "12200    150\n",
      "        ... \n",
      "2137       1\n",
      "793        1\n",
      "956        1\n",
      "57700      1\n",
      "58100      1\n",
      "Name: count, Length: 593, dtype: int64\n"
     ]
    },
    {
     "data": {
      "image/png": "[encoded data removed]",
      "text/plain": [
       "<Figure size 640x480 with 1 Axes>"
      ]
     },
     "metadata": {},
     "output_type": "display_data"
    }
   ],
   "source": [
    "# Number of Houses Sold per Postcode\n",
    "\n",
    "Sales_by_Dist_from_CBD = clean_perth_housing['CBD_DIST'].value_counts()\n",
    "\n",
    "print(Sales_by_Dist_from_CBD)\n",
    "\n",
    "plt.scatter(Sales_by_Dist_from_CBD.index, Sales_by_Dist_from_CBD.values)\n",
    "\n",
    "plt.xlabel('Distance from CBD (metres)')\n",
    "plt.ylabel('Number of Houses Sold')\n",
    "plt.title('Number of Houses Sold by Distance from CBD')\n",
    "\n",
    "plt.savefig('plot3.png')\n",
    "\n",
    "plt.show()"
   ]
  },
  {
   "cell_type": "code",
   "execution_count": 12,
   "metadata": {
    "tags": []
   },
   "outputs": [
    {
     "name": "stdout",
     "output_type": "stream",
     "text": [
      "SUBURB\n",
      "Dalkeith               1961921\n",
      "Peppermint Grove       1771982\n",
      "Cottesloe              1646283\n",
      "City Beach             1644756\n",
      "Nedlands               1639098\n",
      "                        ...   \n",
      "Medina                  270912\n",
      "Haynes                  265126\n",
      "Armadale                249043\n",
      "Kwinana Town Centre     185598\n",
      "Kwinana Beach           170000\n",
      "Name: PRICE, Length: 317, dtype: int64\n"
     ]
    }
   ],
   "source": [
    "# Average House price per Suburb\n",
    "\n",
    "Average_House_Price = pd.DataFrame(clean_perth_housing.groupby(['SUBURB'])['PRICE'].mean().astype(int))\n",
    "\n",
    "sorted_prices = Average_House_Price['PRICE'].sort_values(ascending=False)\n",
    "\n",
    "\n",
    "print(sorted_prices)\n",
    "\n",
    "#print(Average_House_Price)\n",
    "\n",
    "#plt.scatter(Average_House_Price.index, Average_House_Price.values)\n",
    "\n",
    "#plt.xlabel('Distance from CBD (metres)')\n",
    "#plt.ylabel('Price ($ m)')\n",
    "#plt.title('Average House Price by Distance from CBD')\n",
    "\n",
    "#plt.savefig('plot4.png')\n",
    "\n",
    "#plt.show()"
   ]
  },
  {
   "cell_type": "code",
   "execution_count": 13,
   "metadata": {},
   "outputs": [],
   "source": [
    "Average_House_Price = pd.DataFrame(clean_perth_housing.groupby(['SUBURB','Sale_Year'])['PRICE'].mean().astype(int))"
   ]
  },
  {
   "cell_type": "code",
   "execution_count": 14,
   "metadata": {
    "tags": []
   },
   "outputs": [
    {
     "data": {
      "text/plain": [
       "[1471682]"
      ]
     },
     "execution_count": 14,
     "metadata": {},
     "output_type": "execute_result"
    }
   ],
   "source": [
    "top_10_prices = []\n",
    "bottom_10_prices = []\n",
    "\n",
    "Average_House_Price_2016 = pd.DataFrame(clean_perth_housing[clean_perth_housing['Sale_Year'] == 2016].groupby(['SUBURB'])['PRICE'].mean().astype(int))\n",
    "\n",
    "avg_sorted_2016 = Average_House_Price_2016['PRICE'].sort_values(ascending=False)\n",
    "\n",
    "result = avg_sorted_2016[:10].mean().astype(int)\n",
    "\n",
    "top_10_prices.append(result)\n",
    "\n",
    "top_10_prices"
   ]
  },
  {
   "cell_type": "code",
   "execution_count": 15,
   "metadata": {
    "tags": []
   },
   "outputs": [
    {
     "data": {
      "text/plain": [
       "[302751]"
      ]
     },
     "execution_count": 15,
     "metadata": {},
     "output_type": "execute_result"
    }
   ],
   "source": [
    "result = avg_sorted_2016[-10:].mean().astype(int)\n",
    "\n",
    "bottom_10_prices.append(result)\n",
    "\n",
    "bottom_10_prices"
   ]
  },
  {
   "cell_type": "code",
   "execution_count": 16,
   "metadata": {
    "tags": []
   },
   "outputs": [
    {
     "data": {
      "text/plain": [
       "[302751, 274428]"
      ]
     },
     "execution_count": 16,
     "metadata": {},
     "output_type": "execute_result"
    }
   ],
   "source": [
    "Average_House_Price_2017 = pd.DataFrame(clean_perth_housing[clean_perth_housing['Sale_Year'] == 2017].groupby(['SUBURB'])['PRICE'].mean().astype(int))\n",
    "\n",
    "avg_sorted_2017 = Average_House_Price_2017['PRICE'].sort_values(ascending=False)\n",
    "\n",
    "result1 = avg_sorted_2017[:10].mean().astype(int)\n",
    "top_10_prices.append(result1)\n",
    "\n",
    "result = avg_sorted_2017[-10:].mean().astype(int)\n",
    "bottom_10_prices.append(result)\n",
    "\n",
    "\n",
    "bottom_10_prices"
   ]
  },
  {
   "cell_type": "code",
   "execution_count": 17,
   "metadata": {
    "tags": []
   },
   "outputs": [
    {
     "data": {
      "text/plain": [
       "[1471682, 1722613]"
      ]
     },
     "execution_count": 17,
     "metadata": {},
     "output_type": "execute_result"
    }
   ],
   "source": [
    "top_10_prices"
   ]
  },
  {
   "cell_type": "code",
   "execution_count": 18,
   "metadata": {
    "tags": []
   },
   "outputs": [
    {
     "data": {
      "text/plain": [
       "[1471682, 1722613, 1671564]"
      ]
     },
     "execution_count": 18,
     "metadata": {},
     "output_type": "execute_result"
    }
   ],
   "source": [
    "Average_House_Price_2018 = pd.DataFrame(clean_perth_housing[clean_perth_housing['Sale_Year'] == 2018].groupby(['SUBURB'])['PRICE'].mean().astype(int))\n",
    "\n",
    "avg_sorted_2018 = Average_House_Price_2018['PRICE'].sort_values(ascending=False)\n",
    "\n",
    "result1 = avg_sorted_2018[:10].mean().astype(int)\n",
    "top_10_prices.append(result1)\n",
    "\n",
    "top_10_prices"
   ]
  },
  {
   "cell_type": "code",
   "execution_count": 19,
   "metadata": {
    "tags": []
   },
   "outputs": [
    {
     "data": {
      "text/plain": [
       "[302751, 274428, 259938]"
      ]
     },
     "execution_count": 19,
     "metadata": {},
     "output_type": "execute_result"
    }
   ],
   "source": [
    "result = avg_sorted_2018[-10:].mean().astype(int)\n",
    "bottom_10_prices.append(result)\n",
    "\n",
    "\n",
    "bottom_10_prices"
   ]
  },
  {
   "cell_type": "code",
   "execution_count": 20,
   "metadata": {
    "tags": []
   },
   "outputs": [
    {
     "data": {
      "text/plain": [
       "[1471682, 1722613, 1671564, 1524207]"
      ]
     },
     "execution_count": 20,
     "metadata": {},
     "output_type": "execute_result"
    }
   ],
   "source": [
    "Average_House_Price_2019 = pd.DataFrame(clean_perth_housing[clean_perth_housing['Sale_Year'] == 2019].groupby(['SUBURB'])['PRICE'].mean().astype(int))\n",
    "\n",
    "avg_sorted_2019 = Average_House_Price_2019['PRICE'].sort_values(ascending=False)\n",
    "\n",
    "result1 = avg_sorted_2019[:10].mean().astype(int)\n",
    "top_10_prices.append(result1)\n",
    "\n",
    "top_10_prices"
   ]
  },
  {
   "cell_type": "code",
   "execution_count": 21,
   "metadata": {
    "tags": []
   },
   "outputs": [
    {
     "data": {
      "text/plain": [
       "[302751, 274428, 259938, 245973]"
      ]
     },
     "execution_count": 21,
     "metadata": {},
     "output_type": "execute_result"
    }
   ],
   "source": [
    "result = avg_sorted_2019[-10:].mean().astype(int)\n",
    "bottom_10_prices.append(result)\n",
    "\n",
    "\n",
    "bottom_10_prices"
   ]
  },
  {
   "cell_type": "code",
   "execution_count": 22,
   "metadata": {
    "tags": []
   },
   "outputs": [
    {
     "data": {
      "text/plain": [
       "[1471682, 1722613, 1671564, 1524207, 1609982]"
      ]
     },
     "execution_count": 22,
     "metadata": {},
     "output_type": "execute_result"
    }
   ],
   "source": [
    "Average_House_Price_2020 = pd.DataFrame(clean_perth_housing[clean_perth_housing['Sale_Year'] == 2020].groupby(['SUBURB'])['PRICE'].mean().astype(int))\n",
    "\n",
    "avg_sorted_2020 = Average_House_Price_2020['PRICE'].sort_values(ascending=False)\n",
    "\n",
    "result1 = avg_sorted_2020[:10].mean().astype(int)\n",
    "top_10_prices.append(result1)\n",
    "\n",
    "top_10_prices"
   ]
  },
  {
   "cell_type": "code",
   "execution_count": 23,
   "metadata": {
    "tags": []
   },
   "outputs": [
    {
     "data": {
      "text/plain": [
       "[302751, 274428, 259938, 245973, 255500]"
      ]
     },
     "execution_count": 23,
     "metadata": {},
     "output_type": "execute_result"
    }
   ],
   "source": [
    "result = avg_sorted_2020[-10:].mean().astype(int)\n",
    "bottom_10_prices.append(result)\n",
    "\n",
    "\n",
    "bottom_10_prices"
   ]
  },
  {
   "cell_type": "code",
   "execution_count": 24,
   "metadata": {
    "tags": []
   },
   "outputs": [],
   "source": [
    "year = [2016, 2017, 2018, 2019, 2020]"
   ]
  },
  {
   "cell_type": "code",
   "execution_count": 25,
   "metadata": {
    "tags": []
   },
   "outputs": [
    {
     "name": "stdout",
     "output_type": "stream",
     "text": [
      "   Year  Top 10 Suburbs Average Price  Bottom 10 Suburbs Average Price\n",
      "0  2016                       1471682                           302751\n",
      "1  2017                       1722613                           274428\n",
      "2  2018                       1671564                           259938\n",
      "3  2019                       1524207                           245973\n",
      "4  2020                       1609982                           255500\n"
     ]
    }
   ],
   "source": [
    "avg_prices = pd.DataFrame({'Year': year, 'Top 10 Suburbs Average Price': top_10_prices, 'Bottom 10 Suburbs Average Price': bottom_10_prices})\n",
    "\n",
    "print(avg_prices)"
   ]
  },
  {
   "cell_type": "code",
   "execution_count": 26,
   "metadata": {
    "tags": []
   },
   "outputs": [
    {
     "data": {
      "image/png": "[encoded data removed]",
      "text/plain": [
       "<Figure size 800x500 with 1 Axes>"
      ]
     },
     "metadata": {},
     "output_type": "display_data"
    },
    {
     "data": {
      "text/plain": [
       "<Figure size 640x480 with 0 Axes>"
      ]
     },
     "metadata": {},
     "output_type": "display_data"
    }
   ],
   "source": [
    "df = pd.DataFrame(avg_prices)\n",
    "\n",
    "# Create a line plot\n",
    "plt.figure(figsize=(8, 5))  # Adjust the figure size if needed\n",
    "\n",
    "plt.plot(df['Year'], df['Top 10 Suburbs Average Price'], marker='o', linestyle='-')\n",
    "plt.plot(df['Year'], df['Bottom 10 Suburbs Average Price'], marker='*', linestyle='-')\n",
    "\n",
    "# Add labels and title\n",
    "plt.xlabel('Year')\n",
    "plt.ylabel('Average House Price ($ m)')\n",
    "plt.title('Average Price Over the Years')\n",
    "plt.legend\n",
    "\n",
    "# Show the plot\n",
    "plt.grid()\n",
    "#formatter = mticker.StrMethodFormatter('{x:.0f}')\n",
    "#plt.gca().xaxis.set_major_formatter(formatter)\n",
    "plt.xlim(2016, 2020)\n",
    "plt.xticks(range(2016, 2021, 1))\n",
    "plt.show()\n",
    "\n",
    "plt.savefig('plot5.png')"
   ]
  },
  {
   "cell_type": "code",
   "execution_count": null,
   "metadata": {},
   "outputs": [],
   "source": []
  }
 ],
 "metadata": {
  "kernelspec": {
   "display_name": "Python 3 (ipykernel)",
   "language": "python",
   "name": "python3"
  },
  "language_info": {
   "codemirror_mode": {
    "name": "ipython",
    "version": 3
   },
   "file_extension": ".py",
   "mimetype": "text/x-python",
   "name": "python",
   "nbconvert_exporter": "python",
   "pygments_lexer": "ipython3",
   "version": "3.11.4"
  }
 },
 "nbformat": 4,
 "nbformat_minor": 4
}
