{
 "cells": [
  {
   "cell_type": "code",
   "execution_count": 4,
   "id": "98fab574-bf8a-4f25-bb95-38434bbef60e",
   "metadata": {
    "tags": []
   },
   "outputs": [],
   "source": [
    "import requests\n",
    "from config import geoapify_key"
   ]
  },
  {
   "cell_type": "code",
   "execution_count": 5,
   "id": "e75ddb28-fb03-4934-87bb-f3262d3a5af8",
   "metadata": {
    "tags": []
   },
   "outputs": [],
   "source": [
    "api_key = geoapify_key"
   ]
  },
  {
   "cell_type": "code",
   "execution_count": 6,
   "id": "90fdba43-9f13-4466-9bfe-3190057c9754",
   "metadata": {
    "tags": []
   },
   "outputs": [
    {
     "ename": "NameError",
     "evalue": "name 'postcode' is not defined",
     "output_type": "error",
     "traceback": [
      "\u001b[1;31m---------------------------------------------------------------------------\u001b[0m",
      "\u001b[1;31mNameError\u001b[0m                                 Traceback (most recent call last)",
      "Cell \u001b[1;32mIn[6], line 1\u001b[0m\n\u001b[1;32m----> 1\u001b[0m url \u001b[38;5;241m=\u001b[39m \u001b[38;5;124mf\u001b[39m\u001b[38;5;124m'\u001b[39m\u001b[38;5;124mhttps://api.geoapify.com/v1/geocode/search?text=\u001b[39m\u001b[38;5;132;01m{\u001b[39;00mpostcode\u001b[38;5;132;01m}\u001b[39;00m\u001b[38;5;124m&lang=en&limit=10&type=postcode&filter=countrycode:au&apiKey=\u001b[39m\u001b[38;5;132;01m{\u001b[39;00mapi_key\u001b[38;5;132;01m}\u001b[39;00m\u001b[38;5;124m'\u001b[39m\n",
      "\u001b[1;31mNameError\u001b[0m: name 'postcode' is not defined"
     ]
    }
   ],
   "source": []
  },
  {
   "cell_type": "code",
   "execution_count": null,
   "id": "f6804b09-a93a-4f22-ae85-a39baae07b2d",
   "metadata": {},
   "outputs": [],
   "source": [
    "response = requests.get(url)"
   ]
  },
  {
   "cell_type": "code",
   "execution_count": null,
   "id": "51ea73ae-a325-4c10-a9ee-daa0b1de9b30",
   "metadata": {},
   "outputs": [],
   "source": [
    "# Print a message to follow up the airport search\n",
    "print(\"Starting Long and Lat search\")\n",
    "\n",
    "params = {\n",
    "    \"apiKey\":geoapify_key,\n",
    "    \"format\":\"json\"\n",
    "}\n",
    "\n",
    "# Loop through the cities_pd DataFrame and search coordinates for each city\n",
    "for index, row in average_prices.iterrows():\n",
    "\n",
    "    # Get the city's name & add \", Australia\" to the string so geoapify finds the correct city\n",
    "    postcode = row[\"POSTCODE\"]\n",
    "\n",
    "    # Add the current city to the parameters\n",
    "    params[\"text\"] = f\"{postcode}\"\n",
    "    base_url = f'https://api.geoapify.com/v1/geocode/search?text={postcode}&lang=en&limit=10&type=postcode&filter=countrycode:au&apiKey={api_key}'\n",
    "    \n",
    "    # Make the API request\n",
    "    response = requests.get(url, params=params)\n",
    "    \n",
    "    # Convert reponse to JSON\n",
    "    response = response.json()\n",
    "\n",
    "    # Extract latitude and longitude\n",
    "    average_prices.loc[index, \"LONG\"] = response_json['features'][0]['properties']['lon']\n",
    "    average_prices.loc[index, \"LAT\"] = response_json['features'][0]['properties']['lat']\n",
    "    \n",
    "    # Log the search results\n",
    "    print(f\"Coordinates for {city} fetched...\")\n",
    "\n",
    "# Display sample data to confirm that the coordinates appear\n",
    "placed_api.head()"
   ]
  },
  {
   "cell_type": "code",
   "execution_count": null,
   "id": "6a542db4-868a-4568-a14d-60f23e5717e5",
   "metadata": {},
   "outputs": [],
   "source": [
    "for code in postcodes ----- :\n",
    "\n",
    "    if response_json['query']['text'] == POSTCODE \n",
    "    \n",
    "    average_prices.append['LONG'] = response_json['features'][0]['properties']['lon']\n",
    "    average_prices.append['LAT'] =response_json['features'][0]['properties']['lat']"
   ]
  },
  {
   "cell_type": "code",
   "execution_count": null,
   "id": "997aaa08-c952-4f0b-b7b9-c3e86bc98689",
   "metadata": {},
   "outputs": [],
   "source": [
    "response_json"
   ]
  }
 ],
 "metadata": {
  "kernelspec": {
   "display_name": "“PythonData”",
   "language": "python",
   "name": "pythondata"
  },
  "language_info": {
   "codemirror_mode": {
    "name": "ipython",
    "version": 3
   },
   "file_extension": ".py",
   "mimetype": "text/x-python",
   "name": "python",
   "nbconvert_exporter": "python",
   "pygments_lexer": "ipython3",
   "version": "3.11.4"
  }
 },
 "nbformat": 4,
 "nbformat_minor": 5
}
